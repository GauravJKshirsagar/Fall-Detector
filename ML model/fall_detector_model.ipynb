{
  "nbformat": 4,
  "nbformat_minor": 0,
  "metadata": {
    "colab": {
      "name": "fall_detector_model.ipynb",
      "provenance": []
    },
    "kernelspec": {
      "name": "python3",
      "display_name": "Python 3"
    },
    "language_info": {
      "name": "python"
    }
  },
  "cells": [
    {
      "cell_type": "code",
      "metadata": {
        "id": "CO3aq0EEdbMy"
      },
      "source": [
        "import tensorflow as tf\n",
        "from keras.models import Sequential\n",
        "from keras.layers import Dense\n",
        "from keras.optimizers import Adam\n"
      ],
      "execution_count": 26,
      "outputs": []
    },
    {
      "cell_type": "code",
      "metadata": {
        "id": "F8HtkQpPgDfb"
      },
      "source": [
        "model = Sequential()\n",
        "model.add(Dense(12, input_dim=12, activation='relu'))\n",
        "model.add(Dense(64, activation='relu'))\n",
        "model.add(Dense(32, activation='relu'))\n",
        "model.add(Dense(32, activation='relu'))\n",
        "model.add(Dense(8, activation='relu'))\n",
        "model.add(Dense(8, activation='relu'))\n",
        "model.add(Dense(1, activation='sigmoid'))"
      ],
      "execution_count": 43,
      "outputs": []
    },
    {
      "cell_type": "code",
      "metadata": {
        "id": "C_2_tQGkgSVW"
      },
      "source": [
        "import numpy as np\n",
        "Y = [1]*13 + [0]*19\n",
        "\n",
        "Y = np.array(Y)\n",
        "\n",
        "X = np.load(\"/content/drive/MyDrive/X.npy\")"
      ],
      "execution_count": 28,
      "outputs": []
    },
    {
      "cell_type": "code",
      "metadata": {
        "id": "UpQ9pQbzgW-o"
      },
      "source": [
        "import sklearn\n",
        "from sklearn.model_selection import train_test_split\n",
        "\n",
        "X_train, X_test, y_train, y_test = train_test_split( X, Y, test_size=0.2, random_state=42)"
      ],
      "execution_count": 29,
      "outputs": []
    },
    {
      "cell_type": "code",
      "metadata": {
        "colab": {
          "base_uri": "https://localhost:8080/"
        },
        "id": "l7U83hDogGLN",
        "outputId": "67bf2788-9a04-4fb3-c820-0835dbf21a9e"
      },
      "source": [
        "adam = Adam(learning_rate=0.05)\n",
        "\n",
        "model.compile(loss='binary_crossentropy', optimizer=adam, metrics=['accuracy'])\n",
        "model.fit(X_train, y_train, epochs=10, batch_size=10, validation_data=(X_test, y_test))\n",
        "\n"
      ],
      "execution_count": 44,
      "outputs": [
        {
          "output_type": "stream",
          "text": [
            "Epoch 1/10\n",
            "3/3 [==============================] - 1s 183ms/step - loss: 0.7608 - accuracy: 0.3950 - val_loss: 0.6736 - val_accuracy: 0.2857\n",
            "Epoch 2/10\n",
            "3/3 [==============================] - 0s 14ms/step - loss: 1.2201 - accuracy: 0.6225 - val_loss: 0.6548 - val_accuracy: 0.4286\n",
            "Epoch 3/10\n",
            "3/3 [==============================] - 0s 13ms/step - loss: 0.5740 - accuracy: 0.6475 - val_loss: 0.5204 - val_accuracy: 1.0000\n",
            "Epoch 4/10\n",
            "3/3 [==============================] - 0s 11ms/step - loss: 0.4404 - accuracy: 0.9675 - val_loss: 0.4796 - val_accuracy: 0.8571\n",
            "Epoch 5/10\n",
            "3/3 [==============================] - 0s 11ms/step - loss: 0.3224 - accuracy: 0.9150 - val_loss: 0.5888 - val_accuracy: 0.7143\n",
            "Epoch 6/10\n",
            "3/3 [==============================] - 0s 11ms/step - loss: 0.2259 - accuracy: 0.8825 - val_loss: 0.2816 - val_accuracy: 0.8571\n",
            "Epoch 7/10\n",
            "3/3 [==============================] - 0s 14ms/step - loss: 0.1317 - accuracy: 0.9675 - val_loss: 0.1836 - val_accuracy: 1.0000\n",
            "Epoch 8/10\n",
            "3/3 [==============================] - 0s 13ms/step - loss: 0.1193 - accuracy: 1.0000 - val_loss: 0.2027 - val_accuracy: 0.8571\n",
            "Epoch 9/10\n",
            "3/3 [==============================] - 0s 12ms/step - loss: 0.0531 - accuracy: 1.0000 - val_loss: 0.4244 - val_accuracy: 0.8571\n",
            "Epoch 10/10\n",
            "3/3 [==============================] - 0s 11ms/step - loss: 0.0416 - accuracy: 1.0000 - val_loss: 0.7327 - val_accuracy: 0.8571\n"
          ],
          "name": "stdout"
        },
        {
          "output_type": "execute_result",
          "data": {
            "text/plain": [
              "<keras.callbacks.History at 0x7f3d001a78d0>"
            ]
          },
          "metadata": {
            "tags": []
          },
          "execution_count": 44
        }
      ]
    },
    {
      "cell_type": "code",
      "metadata": {
        "colab": {
          "base_uri": "https://localhost:8080/"
        },
        "id": "gWxTCRa8h0CN",
        "outputId": "073b3423-3256-44ff-fb0e-652a93972eee"
      },
      "source": [
        "# Convert the model.\n",
        "converter = tf.lite.TFLiteConverter.from_keras_model(model)\n",
        "tflite_model = converter.convert()\n",
        "\n",
        "# Save the model.\n",
        "with open('/content/drive/MyDrive/model.tflite', 'wb') as f:\n",
        "  f.write(tflite_model)"
      ],
      "execution_count": 46,
      "outputs": [
        {
          "output_type": "stream",
          "text": [
            "INFO:tensorflow:Assets written to: /tmp/tmpvseyhien/assets\n"
          ],
          "name": "stdout"
        },
        {
          "output_type": "stream",
          "text": [
            "INFO:tensorflow:Assets written to: /tmp/tmpvseyhien/assets\n"
          ],
          "name": "stderr"
        }
      ]
    }
  ]
}